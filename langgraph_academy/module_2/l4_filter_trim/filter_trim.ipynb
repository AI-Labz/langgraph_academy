{
 "cells": [
  {
   "cell_type": "markdown",
   "metadata": {},
   "source": [
    "# Filtering and Trimming messages\n",
    "\n",
    "## Review\n",
    "\n",
    "Now, we have a deeper understanding of a few things:\n",
    "\n",
    "- How to customize the graph state schema\n",
    "- How to define custom state reducers\n",
    "- How to use multiple graph state schemas"
   ]
  },
  {
   "cell_type": "markdown",
   "metadata": {},
   "source": [
    "## Goals\n",
    "\n",
    "Now, we can start using these concepts with models in LangGraph!\n",
    "\n",
    "In the next few sessions, we'll build towards a chatbot that has long-term memory.\n",
    "\n",
    "Because our chatbot will use messages, let's first talk a bit more about advanced ways to work with messages in graph state."
   ]
  },
  {
   "cell_type": "markdown",
   "metadata": {},
   "source": [
    "## Messages as State\n",
    "\n",
    "First, let's define some messages"
   ]
  },
  {
   "cell_type": "code",
   "execution_count": 1,
   "metadata": {},
   "outputs": [
    {
     "name": "stdout",
     "output_type": "stream",
     "text": [
      "==================================\u001b[1m Ai Message \u001b[0m==================================\n",
      "Name: Bot\n",
      "\n",
      "So you said you were researching about physics, right?\n",
      "================================\u001b[1m Human Message \u001b[0m=================================\n",
      "Name: Guilherme\n",
      "\n",
      "Yes specifically qantum physics, can you tell me about electrons?\n"
     ]
    }
   ],
   "source": [
    "from pprint import pprint\n",
    "from langchain_core.messages import AIMessage, HumanMessage\n",
    "\n",
    "messages = [\n",
    "    AIMessage(\"So you said you were researching about physics, right?\", name=\"Bot\"),\n",
    "]\n",
    "messages.append(HumanMessage(\"Yes specifically qantum physics, can you tell me about electrons?\", name=\"Guilherme\"))\n",
    "\n",
    "for message in messages:\n",
    "    message.pretty_print()"
   ]
  },
  {
   "cell_type": "markdown",
   "metadata": {},
   "source": [
    "Recall we can pass them to a chat model."
   ]
  },
  {
   "cell_type": "code",
   "execution_count": 3,
   "metadata": {},
   "outputs": [
    {
     "data": {
      "text/plain": [
       "AIMessage(content='Quantum physics is a fascinating field. Electrons are indeed a crucial part of it.\\n\\nElectrons are subatomic particles that orbit the nucleus of an atom. They\\'re negatively charged and play a vital role in the structure and behavior of matter. Here are some key aspects of electrons:\\n\\n1. **Wave-particle duality**: Electrons can exhibit both wave-like and particle-like properties depending on how they\\'re observed. In quantum mechanics, this is known as wave-particle duality.\\n2. **Quantum spin**: Electrons have an intrinsic angular momentum called spin, which is a fundamental property of particles in the quantum world.\\n3. **Energy levels**: Electrons occupy specific energy levels or shells around the nucleus, and each shell has a limited number of available energy states.\\n4. **Orbitals**: The regions around the nucleus where electrons are likely to be found are called orbitals. These can be spherical (s-orbitals) or dumbbell-shaped (p-orbitals).\\n5. **Quantization**: Electron energies are quantized, meaning they come in discrete packets or quanta rather than being continuous.\\n6. **Electron configuration**: The arrangement of electrons in an atom\\'s energy levels is called its electron configuration.\\n\\nSome interesting phenomena related to electrons include:\\n\\n* **Tunneling**: Electrons can pass through potential barriers, even if the energy isn\\'t sufficient to overcome them classically.\\n* **Quantum jumps**: When an electron absorbs or emits energy, it can make a \"quantum jump\" from one energy level to another.\\n* **Electron-electron interactions**: The behavior of electrons in solids and liquids is influenced by their interactions with other electrons.\\n\\nThese are just a few aspects of electrons in quantum physics. Would you like me to elaborate on any specific topic or explore other related concepts?', additional_kwargs={}, response_metadata={'model': 'llama3.1', 'created_at': '2025-01-03T16:06:27.6651491Z', 'done': True, 'done_reason': 'stop', 'total_duration': 13391225100, 'load_duration': 4882683800, 'prompt_eval_count': 40, 'prompt_eval_duration': 298000000, 'eval_count': 369, 'eval_duration': 7714000000, 'message': Message(role='assistant', content='', images=None, tool_calls=None)}, id='run-c6df0a51-0964-4a6b-86ee-2138fdc0742e-0', usage_metadata={'input_tokens': 40, 'output_tokens': 369, 'total_tokens': 409})"
      ]
     },
     "execution_count": 3,
     "metadata": {},
     "output_type": "execute_result"
    }
   ],
   "source": [
    "from langchain_ollama import ChatOllama\n",
    "\n",
    "llm = ChatOllama(\n",
    "    model=\"llama3.1\",\n",
    "    base_url=\"http://localhost:11434\",\n",
    "    max_tokens=1000,\n",
    "    temperature=0.8\n",
    "    )\n",
    "llm.invoke(messages)"
   ]
  },
  {
   "cell_type": "markdown",
   "metadata": {},
   "source": [
    "We can run our chat model in a simple graph with `MessagesState`"
   ]
  },
  {
   "cell_type": "code",
   "execution_count": 4,
   "metadata": {},
   "outputs": [
    {
     "data": {
      "image/png": "[encoded data removed]",
      "text/plain": [
       "<IPython.core.display.Image object>"
      ]
     },
     "metadata": {},
     "output_type": "display_data"
    }
   ],
   "source": [
    "from IPython.display import display, Image\n",
    "from langgraph.graph import MessagesState, StateGraph, START, END\n",
    "\n",
    "# Node\n",
    "def chat_model(state: MessagesState):\n",
    "    return {\"messages\": llm.invoke(state[\"messages\"])}\n",
    "\n",
    "# Build the graph\n",
    "builder = StateGraph(MessagesState)\n",
    "builder.add_node(\"chat\", chat_model)\n",
    "\n",
    "# Add edges\n",
    "builder.add_edge(START, \"chat\")\n",
    "builder.add_edge(\"chat\", END)\n",
    "\n",
    "# Compile the graph\n",
    "graph = builder.compile()\n",
    "\n",
    "# View the graph\n",
    "display(Image(graph.get_graph().draw_mermaid_png()))"
   ]
  },
  {
   "cell_type": "code",
   "execution_count": 5,
   "metadata": {},
   "outputs": [
    {
     "name": "stdout",
     "output_type": "stream",
     "text": [
      "==================================\u001b[1m Ai Message \u001b[0m==================================\n",
      "Name: Bot\n",
      "\n",
      "So you said you were researching about physics, right?\n",
      "================================\u001b[1m Human Message \u001b[0m=================================\n",
      "Name: Guilherme\n",
      "\n",
      "Yes specifically qantum physics, can you tell me about electrons?\n",
      "==================================\u001b[1m Ai Message \u001b[0m==================================\n",
      "\n",
      "Electrons are fascinating particles that play a crucial role in quantum physics. Here's an introduction:\n",
      "\n",
      "**What is an electron?**\n",
      "\n",
      "An electron is a subatomic particle that orbits the nucleus of an atom. It has a negative charge and is one of the three main components of matter, along with protons and neutrons.\n",
      "\n",
      "**Properties of electrons:**\n",
      "\n",
      "1. **Charge:** Electrons have a negative charge (-e), which is equal in magnitude to the positive charge (+e) carried by protons.\n",
      "2. **Mass:** The mass of an electron is approximately 9.11 x 10^-31 kilograms, which is much smaller than that of protons and neutrons.\n",
      "3. **Spin:** Electrons have a property called spin, which is a fundamental quantum property. They can spin either clockwise or counterclockwise, with each spin being a definite direction (either up or down).\n",
      "4. **Energy levels:** In an atom, electrons occupy specific energy levels, also known as orbitals. These levels are quantized, meaning that they can only have specific energies and not any value in between.\n",
      "5. **Wave-particle duality:** Electrons exhibit wave-particle duality, which means that they can behave like both waves and particles depending on how they're observed.\n",
      "\n",
      "**Interesting electron phenomena:**\n",
      "\n",
      "1. **Quantum tunneling:** Electrons can pass through solid barriers or gaps, even if they don't have enough energy to overcome the barrier classically.\n",
      "2. **Electron spin resonance (ESR):** This phenomenon occurs when an external magnetic field is applied to a sample containing unpaired electrons, causing them to resonate at specific frequencies.\n",
      "3. **Quantum entanglement:** Electrons can become \"entangled\" with other particles or themselves, meaning that their properties are connected and can be affected instantaneously.\n",
      "\n",
      "**Some famous experiments involving electrons:**\n",
      "\n",
      "1. **The double-slit experiment:** This classic experiment demonstrated the wave-particle duality of electrons by showing how they create an interference pattern on a screen when passed through two slits.\n",
      "2. **The Stern-Gerlach experiment:** This experiment showed that electrons have a spin property, which is essential for understanding the behavior of atoms and molecules.\n",
      "\n",
      "**What would you like to know more about?**\n",
      "\n",
      "Would you like me to expand on any of these topics or explore other aspects of quantum physics related to electrons?\n"
     ]
    }
   ],
   "source": [
    "output = graph.invoke({\"messages\": messages})\n",
    "for m in output[\"messages\"]:\n",
    "    m.pretty_print()"
   ]
  },
  {
   "cell_type": "markdown",
   "metadata": {},
   "source": [
    "## Reducer\n",
    "\n",
    "A pratical challenge when working with messages is managing long-running conversations.\n",
    "\n",
    "Long-running conversations result in high token usage and latency if we are not careful, because we pass a growing list of messages to the model.\n",
    "\n",
    "We have a few ways to address this.\n",
    "\n",
    "First recall the trick we saw using `RemoveMessage` and the `add_messages` reducer."
   ]
  },
  {
   "cell_type": "code",
   "execution_count": 6,
   "metadata": {},
   "outputs": [
    {
     "data": {
      "image/png": "[encoded data removed]",
      "text/plain": [
       "<IPython.core.display.Image object>"
      ]
     },
     "metadata": {},
     "output_type": "display_data"
    }
   ],
   "source": [
    "from langchain_core.messages import RemoveMessage\n",
    "\n",
    "# Nodes\n",
    "def filter_messages(state: MessagesState):\n",
    "    # Delete all but the 2 most recent messages\n",
    "    delete_messages = [RemoveMessage(id=m.id) for m in state[\"messages\"][:-2]]\n",
    "    return {\"messages\": delete_messages}\n",
    "\n",
    "def chat_model(state: MessagesState):\n",
    "    return {\"messages\": [llm.invoke(state[\"messages\"])]}\n",
    "\n",
    "# Build the graph\n",
    "builder = StateGraph(MessagesState)\n",
    "builder.add_node(\"filter_messages\", filter_messages)\n",
    "builder.add_node(\"chat\", chat_model)\n",
    "\n",
    "# Add edges\n",
    "builder.add_edge(START, \"filter_messages\")\n",
    "builder.add_edge(\"filter_messages\", \"chat\")\n",
    "builder.add_edge(\"chat\", END)\n",
    "\n",
    "# Compile the graph\n",
    "graph = builder.compile()\n",
    "\n",
    "# View the graph\n",
    "display(Image(graph.get_graph().draw_mermaid_png()))"
   ]
  },
  {
   "cell_type": "code",
   "execution_count": 7,
   "metadata": {},
   "outputs": [
    {
     "name": "stdout",
     "output_type": "stream",
     "text": [
      "==================================\u001b[1m Ai Message \u001b[0m==================================\n",
      "Name: Bot\n",
      "\n",
      "Nice to meet you Guilherme, what are you interested in?\n",
      "================================\u001b[1m Human Message \u001b[0m=================================\n",
      "Name: Guilherme\n",
      "\n",
      "I'm interested in quantum physics\n",
      "==================================\u001b[1m Ai Message \u001b[0m==================================\n",
      "\n",
      "That's a fascinating field! Quantum physics is the study of the behavior of matter and energy at an atomic and subatomic level. It's a branch of physics that explores the strange and often counterintuitive world of particles and waves.\n",
      "\n",
      "What specific aspects of quantum physics interest you? Are you drawn to topics like:\n",
      "\n",
      "1. Schrödinger's cat and the implications of superposition?\n",
      "2. The principles of wave-particle duality and the EPR paradox?\n",
      "3. Quantum entanglement and its potential applications in quantum computing?\n",
      "4. The Heisenberg Uncertainty Principle and its limitations on measurement?\n",
      "\n",
      "Or perhaps you're curious about the practical applications of quantum physics, such as:\n",
      "\n",
      "1. Quantum computing and cryptography?\n",
      "2. Quantum-inspired technologies like superconductors or nanotechnology?\n",
      "3. Theoretical models for understanding black holes or the early universe?\n",
      "\n",
      "Let me know what piques your interest, and I'll do my best to help you explore these concepts!\n"
     ]
    }
   ],
   "source": [
    "# Message list with preamble\n",
    "messages = [\n",
    "    AIMessage(\"Hi\", name=\"Bot\"),\n",
    "]\n",
    "messages.append(HumanMessage(\"Hello, I'm Guilherme\", name=\"Guilherme\"))\n",
    "messages.append(AIMessage(\"Nice to meet you Guilherme, what are you interested in?\", name=\"Bot\"))\n",
    "messages.append(HumanMessage(\"I'm interested in quantum physics\", name=\"Guilherme\"))\n",
    "\n",
    "output = graph.invoke({\"messages\": messages})\n",
    "for m in output[\"messages\"]:\n",
    "    m.pretty_print()"
   ]
  },
  {
   "cell_type": "markdown",
   "metadata": {},
   "source": [
    "## Filtering messages\n",
    "\n",
    "If you don't need or want to  modify the graph state, you can just filter the messages you pass to the chat model.\n",
    "\n",
    "For example, just pass in a filtered list: `llm.invoke(messages[-1:])` to the model"
   ]
  },
  {
   "cell_type": "code",
   "execution_count": 8,
   "metadata": {},
   "outputs": [
    {
     "data": {
      "image/png": "[encoded data removed]",
      "text/plain": [
       "<IPython.core.display.Image object>"
      ]
     },
     "metadata": {},
     "output_type": "display_data"
    }
   ],
   "source": [
    "# Node\n",
    "def chat_model(state: MessagesState):\n",
    "    return {\"messages\": llm.invoke(state[\"messages\"][-1:])}\n",
    "\n",
    "# Build the graph\n",
    "builder = StateGraph(MessagesState)\n",
    "builder.add_node(\"chat\", chat_model)\n",
    "\n",
    "# Add edges\n",
    "builder.add_edge(START, \"chat\")\n",
    "builder.add_edge(\"chat\", END)\n",
    "\n",
    "# Compile the graph\n",
    "graph = builder.compile()\n",
    "\n",
    "# View the graph\n",
    "display(Image(graph.get_graph().draw_mermaid_png()))"
   ]
  },
  {
   "cell_type": "markdown",
   "metadata": {},
   "source": [
    "Let's take our existing list of mmessages, append the above LLM response, and append a follow-up question."
   ]
  },
  {
   "cell_type": "code",
   "execution_count": 10,
   "metadata": {},
   "outputs": [
    {
     "name": "stdout",
     "output_type": "stream",
     "text": [
      "==================================\u001b[1m Ai Message \u001b[0m==================================\n",
      "Name: Bot\n",
      "\n",
      "Hi\n",
      "================================\u001b[1m Human Message \u001b[0m=================================\n",
      "Name: Guilherme\n",
      "\n",
      "Hello, I'm Guilherme\n",
      "==================================\u001b[1m Ai Message \u001b[0m==================================\n",
      "Name: Bot\n",
      "\n",
      "Nice to meet you Guilherme, what are you interested in?\n",
      "================================\u001b[1m Human Message \u001b[0m=================================\n",
      "Name: Guilherme\n",
      "\n",
      "I'm interested in quantum physics\n",
      "==================================\u001b[1m Ai Message \u001b[0m==================================\n",
      "\n",
      "That's a fascinating field! Quantum physics is the study of the behavior of matter and energy at an atomic and subatomic level. It's a branch of physics that explores the strange and often counterintuitive world of particles and waves.\n",
      "\n",
      "What specific aspects of quantum physics interest you? Are you drawn to topics like:\n",
      "\n",
      "1. Schrödinger's cat and the implications of superposition?\n",
      "2. The principles of wave-particle duality and the EPR paradox?\n",
      "3. Quantum entanglement and its potential applications in quantum computing?\n",
      "4. The Heisenberg Uncertainty Principle and its limitations on measurement?\n",
      "\n",
      "Or perhaps you're curious about the practical applications of quantum physics, such as:\n",
      "\n",
      "1. Quantum computing and cryptography?\n",
      "2. Quantum-inspired technologies like superconductors or nanotechnology?\n",
      "3. Theoretical models for understanding black holes or the early universe?\n",
      "\n",
      "Let me know what piques your interest, and I'll do my best to help you explore these concepts!\n",
      "================================\u001b[1m Human Message \u001b[0m=================================\n",
      "Name: Guilherme\n",
      "\n",
      "Tell me more about Heisenberg's uncertainty principle\n",
      "==================================\u001b[1m Ai Message \u001b[0m==================================\n",
      "\n",
      "That's a fascinating field! Quantum physics is the study of the behavior of matter and energy at an atomic and subatomic level. It's a branch of physics that explores the strange and often counterintuitive world of particles and waves.\n",
      "\n",
      "What specific aspects of quantum physics interest you? Are you drawn to topics like:\n",
      "\n",
      "1. Schrödinger's cat and the implications of superposition?\n",
      "2. The principles of wave-particle duality and the EPR paradox?\n",
      "3. Quantum entanglement and its potential applications in quantum computing?\n",
      "4. The Heisenberg Uncertainty Principle and its limitations on measurement?\n",
      "\n",
      "Or perhaps you're curious about the practical applications of quantum physics, such as:\n",
      "\n",
      "1. Quantum computing and cryptography?\n",
      "2. Quantum-inspired technologies like superconductors or nanotechnology?\n",
      "3. Theoretical models for understanding black holes or the early universe?\n",
      "\n",
      "Let me know what piques your interest, and I'll do my best to help you explore these concepts!\n",
      "================================\u001b[1m Human Message \u001b[0m=================================\n",
      "Name: Guilherme\n",
      "\n",
      "Tell me more about Heisenberg's uncertainty principle\n"
     ]
    }
   ],
   "source": [
    "messages.append(output[\"messages\"][-1])\n",
    "messages.append(HumanMessage(\"Tell me more about Heisenberg's uncertainty principle\", name=\"Guilherme\"))\n",
    "for m in messages:\n",
    "    m.pretty_print()"
   ]
  },
  {
   "cell_type": "code",
   "execution_count": 11,
   "metadata": {},
   "outputs": [
    {
     "name": "stdout",
     "output_type": "stream",
     "text": [
      "==================================\u001b[1m Ai Message \u001b[0m==================================\n",
      "Name: Bot\n",
      "\n",
      "Hi\n",
      "================================\u001b[1m Human Message \u001b[0m=================================\n",
      "Name: Guilherme\n",
      "\n",
      "Hello, I'm Guilherme\n",
      "==================================\u001b[1m Ai Message \u001b[0m==================================\n",
      "Name: Bot\n",
      "\n",
      "Nice to meet you Guilherme, what are you interested in?\n",
      "================================\u001b[1m Human Message \u001b[0m=================================\n",
      "Name: Guilherme\n",
      "\n",
      "I'm interested in quantum physics\n",
      "==================================\u001b[1m Ai Message \u001b[0m==================================\n",
      "\n",
      "That's a fascinating field! Quantum physics is the study of the behavior of matter and energy at an atomic and subatomic level. It's a branch of physics that explores the strange and often counterintuitive world of particles and waves.\n",
      "\n",
      "What specific aspects of quantum physics interest you? Are you drawn to topics like:\n",
      "\n",
      "1. Schrödinger's cat and the implications of superposition?\n",
      "2. The principles of wave-particle duality and the EPR paradox?\n",
      "3. Quantum entanglement and its potential applications in quantum computing?\n",
      "4. The Heisenberg Uncertainty Principle and its limitations on measurement?\n",
      "\n",
      "Or perhaps you're curious about the practical applications of quantum physics, such as:\n",
      "\n",
      "1. Quantum computing and cryptography?\n",
      "2. Quantum-inspired technologies like superconductors or nanotechnology?\n",
      "3. Theoretical models for understanding black holes or the early universe?\n",
      "\n",
      "Let me know what piques your interest, and I'll do my best to help you explore these concepts!\n",
      "================================\u001b[1m Human Message \u001b[0m=================================\n",
      "Name: Guilherme\n",
      "\n",
      "Tell me more about Heisenberg's uncertainty principle\n",
      "==================================\u001b[1m Ai Message \u001b[0m==================================\n",
      "\n",
      "That's a fascinating field! Quantum physics is the study of the behavior of matter and energy at an atomic and subatomic level. It's a branch of physics that explores the strange and often counterintuitive world of particles and waves.\n",
      "\n",
      "What specific aspects of quantum physics interest you? Are you drawn to topics like:\n",
      "\n",
      "1. Schrödinger's cat and the implications of superposition?\n",
      "2. The principles of wave-particle duality and the EPR paradox?\n",
      "3. Quantum entanglement and its potential applications in quantum computing?\n",
      "4. The Heisenberg Uncertainty Principle and its limitations on measurement?\n",
      "\n",
      "Or perhaps you're curious about the practical applications of quantum physics, such as:\n",
      "\n",
      "1. Quantum computing and cryptography?\n",
      "2. Quantum-inspired technologies like superconductors or nanotechnology?\n",
      "3. Theoretical models for understanding black holes or the early universe?\n",
      "\n",
      "Let me know what piques your interest, and I'll do my best to help you explore these concepts!\n",
      "================================\u001b[1m Human Message \u001b[0m=================================\n",
      "Name: Guilherme\n",
      "\n",
      "Tell me more about Heisenberg's uncertainty principle\n",
      "==================================\u001b[1m Ai Message \u001b[0m==================================\n",
      "\n",
      "A fundamental concept in physics! Werner Heisenberg's uncertainty principle, formulated in 1927, is a cornerstone of quantum mechanics. It states that it is impossible to simultaneously know both the exact position and the exact momentum (or velocity) of a particle with infinite precision. In other words, the more precisely you try to measure one property, the less precisely you can know the other.\n",
      "\n",
      "The principle is often mathematically expressed as:\n",
      "\n",
      "Δx \\* Δp ≥ h/4π\n",
      "\n",
      "where:\n",
      "\n",
      "* Δx is the uncertainty in position (or the smallest distance by which the particle's position can be known)\n",
      "* Δp is the uncertainty in momentum (or the smallest change in momentum that can be detected)\n",
      "* h is the Planck constant (approximately 6.626 x 10^-34 J s)\n",
      "\n",
      "The uncertainty principle has far-reaching implications:\n",
      "\n",
      "1. **Limits on measurement precision**: Heisenberg's principle shows that there are fundamental limits to how precisely we can measure certain properties of a particle, like position and momentum.\n",
      "2. **Wave-particle duality**: The principle is closely related to the concept of wave-particle duality, which suggests that particles, such as electrons or photons, can exhibit both wave-like and particle-like behavior depending on how they are observed.\n",
      "3. **Quantum superposition**: The uncertainty principle implies that a quantum system can exist in multiple states simultaneously (a phenomenon known as superposition), which is at the heart of many quantum effects.\n",
      "\n",
      "Some everyday examples to illustrate the principle:\n",
      "\n",
      "* **Locating an electron**: If you try to pinpoint an electron's position using a precise measurement tool, its momentum becomes uncertain. Conversely, if you measure its momentum precisely, you can't know where it is with certainty.\n",
      "* **Measuring a particle's energy and time**: The more accurately you measure the energy of a particle (e.g., by shining light on it), the less precisely you can know when it was measured (its \"time\").\n",
      "* **The limits of scientific observation**: Heisenberg's principle reminds us that there are fundamental limitations to our ability to observe and measure physical systems, even with advanced technology.\n",
      "\n",
      "While the uncertainty principle might seem counterintuitive at first, it has been extensively experimentally confirmed in various fields of physics, from atomic and subatomic phenomena to quantum computing and materials science. Its implications continue to shape our understanding of the behavior of particles at the smallest scales and inspire new areas of research in physics and beyond!\n"
     ]
    }
   ],
   "source": [
    "output = graph.invoke({\"messages\": messages})\n",
    "for m in output[\"messages\"]:\n",
    "    m.pretty_print()\n"
   ]
  },
  {
   "cell_type": "markdown",
   "metadata": {},
   "source": [
    "## Trim Messages\n",
    "\n",
    "Another approach is to trim messages, base dupon a set number of tokens.\n",
    "\n",
    "This restricts the message history to specified number of tokens.\n",
    "\n",
    "While filtering only return a post-hoc subset of the messages between agents, trimming restricts the  number of tokens that a chat model can use to respond.\n",
    "\n",
    "See the `trim_messages` below:"
   ]
  },
  {
   "cell_type": "code",
   "execution_count": 22,
   "metadata": {},
   "outputs": [
    {
     "data": {
      "image/png": "[encoded data removed]",
      "text/plain": [
       "<IPython.core.display.Image object>"
      ]
     },
     "metadata": {},
     "output_type": "display_data"
    }
   ],
   "source": [
    "from langchain_core.messages import trim_messages\n",
    "\n",
    "# Node\n",
    "def chat_model(state: MessagesState):\n",
    "    messages = trim_messages(\n",
    "        state[\"messages\"],\n",
    "        max_tokens=500,\n",
    "        strategy=\"last\",\n",
    "        token_counter = ChatOllama(model=\"llama3.1\", base_url=\"http://localhost:11434\"),\n",
    "        allow_partial=True\n",
    "    )\n",
    "    return {\"messages\": [llm.invoke(messages)]}\n",
    "\n",
    "# Build the graph\n",
    "builder = StateGraph(MessagesState)\n",
    "builder.add_node(\"chat\", chat_model)\n",
    "\n",
    "# Add edges\n",
    "builder.add_edge(START, \"chat\")\n",
    "builder.add_edge(\"chat\", END)\n",
    "\n",
    "# Compile the graph\n",
    "graph = builder.compile()\n",
    "\n",
    "# View the graph\n",
    "display(Image(graph.get_graph().draw_mermaid_png()))"
   ]
  },
  {
   "cell_type": "code",
   "execution_count": 23,
   "metadata": {},
   "outputs": [],
   "source": [
    "messages.append(output[\"messages\"][-1])\n",
    "messages.append(HumanMessage(\"Tell me more about Planck's constant\", name=\"Guilherme\"))"
   ]
  },
  {
   "cell_type": "code",
   "execution_count": 24,
   "metadata": {},
   "outputs": [
    {
     "data": {
      "text/plain": [
       "[HumanMessage(content=\"Tell me more about Planck's constant\", additional_kwargs={}, response_metadata={}, name='Guilherme')]"
      ]
     },
     "execution_count": 24,
     "metadata": {},
     "output_type": "execute_result"
    }
   ],
   "source": [
    "trim_messages(messages, max_tokens=500, strategy=\"last\", token_counter=llm)"
   ]
  },
  {
   "cell_type": "code",
   "execution_count": 25,
   "metadata": {},
   "outputs": [],
   "source": [
    "messages_out_trim = graph.invoke({\"messages\": messages})"
   ]
  },
  {
   "cell_type": "code",
   "execution_count": 26,
   "metadata": {},
   "outputs": [
    {
     "data": {
      "text/plain": [
       "{'messages': [AIMessage(content='Hi', additional_kwargs={}, response_metadata={}, name='Bot', id='b3138fbe-3273-44e3-88de-e0ce5ff9b800'),\n",
       "  HumanMessage(content=\"Hello, I'm Guilherme\", additional_kwargs={}, response_metadata={}, name='Guilherme', id='5b13a356-b9e6-4ee8-9b53-8bb9821de138'),\n",
       "  AIMessage(content='Nice to meet you Guilherme, what are you interested in?', additional_kwargs={}, response_metadata={}, name='Bot', id='5fb4b102-95be-40cf-b599-b7295997440d'),\n",
       "  HumanMessage(content=\"I'm interested in quantum physics\", additional_kwargs={}, response_metadata={}, name='Guilherme', id='95638f17-b463-4d59-bbf7-1c9861ba2ab6'),\n",
       "  AIMessage(content=\"That's a fascinating field! Quantum physics is the study of the behavior of matter and energy at an atomic and subatomic level. It's a branch of physics that explores the strange and often counterintuitive world of particles and waves.\\n\\nWhat specific aspects of quantum physics interest you? Are you drawn to topics like:\\n\\n1. Schrödinger's cat and the implications of superposition?\\n2. The principles of wave-particle duality and the EPR paradox?\\n3. Quantum entanglement and its potential applications in quantum computing?\\n4. The Heisenberg Uncertainty Principle and its limitations on measurement?\\n\\nOr perhaps you're curious about the practical applications of quantum physics, such as:\\n\\n1. Quantum computing and cryptography?\\n2. Quantum-inspired technologies like superconductors or nanotechnology?\\n3. Theoretical models for understanding black holes or the early universe?\\n\\nLet me know what piques your interest, and I'll do my best to help you explore these concepts!\", additional_kwargs={}, response_metadata={'model': 'llama3.1', 'created_at': '2025-01-03T16:19:37.9650647Z', 'done': True, 'done_reason': 'stop', 'total_duration': 7037800600, 'load_duration': 1836896500, 'prompt_eval_count': 35, 'prompt_eval_duration': 241000000, 'eval_count': 197, 'eval_duration': 4274000000, 'message': Message(role='assistant', content='', images=None, tool_calls=None)}, id='run-6c727e8b-510e-491d-8150-c8c9ddf0d771-0', usage_metadata={'input_tokens': 35, 'output_tokens': 197, 'total_tokens': 232}),\n",
       "  HumanMessage(content=\"Tell me more about Heisenberg's uncertainty principle\", additional_kwargs={}, response_metadata={}, name='Guilherme', id='0c4456b8-ccf0-4920-9b65-e798c4549474'),\n",
       "  AIMessage(content=\"That's a fascinating field! Quantum physics is the study of the behavior of matter and energy at an atomic and subatomic level. It's a branch of physics that explores the strange and often counterintuitive world of particles and waves.\\n\\nWhat specific aspects of quantum physics interest you? Are you drawn to topics like:\\n\\n1. Schrödinger's cat and the implications of superposition?\\n2. The principles of wave-particle duality and the EPR paradox?\\n3. Quantum entanglement and its potential applications in quantum computing?\\n4. The Heisenberg Uncertainty Principle and its limitations on measurement?\\n\\nOr perhaps you're curious about the practical applications of quantum physics, such as:\\n\\n1. Quantum computing and cryptography?\\n2. Quantum-inspired technologies like superconductors or nanotechnology?\\n3. Theoretical models for understanding black holes or the early universe?\\n\\nLet me know what piques your interest, and I'll do my best to help you explore these concepts!\", additional_kwargs={}, response_metadata={'model': 'llama3.1', 'created_at': '2025-01-03T16:19:37.9650647Z', 'done': True, 'done_reason': 'stop', 'total_duration': 7037800600, 'load_duration': 1836896500, 'prompt_eval_count': 35, 'prompt_eval_duration': 241000000, 'eval_count': 197, 'eval_duration': 4274000000, 'message': Message(role='assistant', content='', images=None, tool_calls=None)}, id='run-6c727e8b-510e-491d-8150-c8c9ddf0d771-0', usage_metadata={'input_tokens': 35, 'output_tokens': 197, 'total_tokens': 232}),\n",
       "  HumanMessage(content=\"Tell me more about Heisenberg's uncertainty principle\", additional_kwargs={}, response_metadata={}, name='Guilherme', id='d560d84d-2f1b-48e9-8b67-133bc4895d46'),\n",
       "  AIMessage(content='A fundamental concept in physics! Werner Heisenberg\\'s uncertainty principle, formulated in 1927, is a cornerstone of quantum mechanics. It states that it is impossible to simultaneously know both the exact position and the exact momentum (or velocity) of a particle with infinite precision. In other words, the more precisely you try to measure one property, the less precisely you can know the other.\\n\\nThe principle is often mathematically expressed as:\\n\\nΔx \\\\* Δp ≥ h/4π\\n\\nwhere:\\n\\n* Δx is the uncertainty in position (or the smallest distance by which the particle\\'s position can be known)\\n* Δp is the uncertainty in momentum (or the smallest change in momentum that can be detected)\\n* h is the Planck constant (approximately 6.626 x 10^-34 J s)\\n\\nThe uncertainty principle has far-reaching implications:\\n\\n1. **Limits on measurement precision**: Heisenberg\\'s principle shows that there are fundamental limits to how precisely we can measure certain properties of a particle, like position and momentum.\\n2. **Wave-particle duality**: The principle is closely related to the concept of wave-particle duality, which suggests that particles, such as electrons or photons, can exhibit both wave-like and particle-like behavior depending on how they are observed.\\n3. **Quantum superposition**: The uncertainty principle implies that a quantum system can exist in multiple states simultaneously (a phenomenon known as superposition), which is at the heart of many quantum effects.\\n\\nSome everyday examples to illustrate the principle:\\n\\n* **Locating an electron**: If you try to pinpoint an electron\\'s position using a precise measurement tool, its momentum becomes uncertain. Conversely, if you measure its momentum precisely, you can\\'t know where it is with certainty.\\n* **Measuring a particle\\'s energy and time**: The more accurately you measure the energy of a particle (e.g., by shining light on it), the less precisely you can know when it was measured (its \"time\").\\n* **The limits of scientific observation**: Heisenberg\\'s principle reminds us that there are fundamental limitations to our ability to observe and measure physical systems, even with advanced technology.\\n\\nWhile the uncertainty principle might seem counterintuitive at first, it has been extensively experimentally confirmed in various fields of physics, from atomic and subatomic phenomena to quantum computing and materials science. Its implications continue to shape our understanding of the behavior of particles at the smallest scales and inspire new areas of research in physics and beyond!', additional_kwargs={}, response_metadata={'model': 'llama3.1', 'created_at': '2025-01-03T16:26:06.7756979Z', 'done': True, 'done_reason': 'stop', 'total_duration': 13241504600, 'load_duration': 1891988100, 'prompt_eval_count': 20, 'prompt_eval_duration': 243000000, 'eval_count': 502, 'eval_duration': 11104000000, 'message': Message(role='assistant', content='', images=None, tool_calls=None)}, id='run-bb711e5a-fd32-47ee-8498-251f2c9723e3-0', usage_metadata={'input_tokens': 20, 'output_tokens': 502, 'total_tokens': 522}),\n",
       "  HumanMessage(content=\"Tell me more about Planck's constant\", additional_kwargs={}, response_metadata={}, name='Guilherme', id='35456d27-25df-446f-85b1-2882fde029b9'),\n",
       "  AIMessage(content='A fundamental concept in physics! Werner Heisenberg\\'s uncertainty principle, formulated in 1927, is a cornerstone of quantum mechanics. It states that it is impossible to simultaneously know both the exact position and the exact momentum (or velocity) of a particle with infinite precision. In other words, the more precisely you try to measure one property, the less precisely you can know the other.\\n\\nThe principle is often mathematically expressed as:\\n\\nΔx \\\\* Δp ≥ h/4π\\n\\nwhere:\\n\\n* Δx is the uncertainty in position (or the smallest distance by which the particle\\'s position can be known)\\n* Δp is the uncertainty in momentum (or the smallest change in momentum that can be detected)\\n* h is the Planck constant (approximately 6.626 x 10^-34 J s)\\n\\nThe uncertainty principle has far-reaching implications:\\n\\n1. **Limits on measurement precision**: Heisenberg\\'s principle shows that there are fundamental limits to how precisely we can measure certain properties of a particle, like position and momentum.\\n2. **Wave-particle duality**: The principle is closely related to the concept of wave-particle duality, which suggests that particles, such as electrons or photons, can exhibit both wave-like and particle-like behavior depending on how they are observed.\\n3. **Quantum superposition**: The uncertainty principle implies that a quantum system can exist in multiple states simultaneously (a phenomenon known as superposition), which is at the heart of many quantum effects.\\n\\nSome everyday examples to illustrate the principle:\\n\\n* **Locating an electron**: If you try to pinpoint an electron\\'s position using a precise measurement tool, its momentum becomes uncertain. Conversely, if you measure its momentum precisely, you can\\'t know where it is with certainty.\\n* **Measuring a particle\\'s energy and time**: The more accurately you measure the energy of a particle (e.g., by shining light on it), the less precisely you can know when it was measured (its \"time\").\\n* **The limits of scientific observation**: Heisenberg\\'s principle reminds us that there are fundamental limitations to our ability to observe and measure physical systems, even with advanced technology.\\n\\nWhile the uncertainty principle might seem counterintuitive at first, it has been extensively experimentally confirmed in various fields of physics, from atomic and subatomic phenomena to quantum computing and materials science. Its implications continue to shape our understanding of the behavior of particles at the smallest scales and inspire new areas of research in physics and beyond!', additional_kwargs={}, response_metadata={'model': 'llama3.1', 'created_at': '2025-01-03T16:26:06.7756979Z', 'done': True, 'done_reason': 'stop', 'total_duration': 13241504600, 'load_duration': 1891988100, 'prompt_eval_count': 20, 'prompt_eval_duration': 243000000, 'eval_count': 502, 'eval_duration': 11104000000, 'message': Message(role='assistant', content='', images=None, tool_calls=None)}, id='run-bb711e5a-fd32-47ee-8498-251f2c9723e3-0', usage_metadata={'input_tokens': 20, 'output_tokens': 502, 'total_tokens': 522}),\n",
       "  HumanMessage(content=\"Tell me more about Planck's constant\", additional_kwargs={}, response_metadata={}, name='Guilherme', id='62394a32-9161-4dd5-acb4-9b364b2b2e9f'),\n",
       "  AIMessage(content=\"Planck's constant (h) - a fundamental constant that plays a central role in quantum mechanics!\\n\\n**What is Planck's constant?**\\n\\nIn 1900, Max Planck introduced the concept of Planck's constant as part of his theory to explain black-body radiation. At that time, scientists were struggling to understand how energy was emitted and absorbed by objects at different temperatures. Planck proposed that energy is not continuous but rather comes in discrete packets (now called quanta). To describe this phenomenon, he introduced the concept of a fundamental unit of action, which we now call Planck's constant.\\n\\n**Value of Planck's constant:**\\n\\nPlanck's constant has a value approximately equal to:\\n\\nh ≈ 6.626 x 10^-34 J s\\n\\nThis value is a dimensionless quantity (i.e., it doesn't have any units), but it can be expressed in various units, such as Joule-seconds (J s), eV-seconds (eV s), or even just seconds (s).\\n\\n**Properties and applications:**\\n\\nPlanck's constant has several important properties and applications:\\n\\n1. **Quantum energy**: Planck's constant relates the energy of a photon to its frequency:\\nE = hν\\nwhere E is the energy, h is Planck's constant, ν is the frequency.\\n2. **Wavelength and momentum**: The wavelength (λ) and momentum (p) of a particle are related to Planck's constant through:\\nλν = p/m\\nwhere λ is the wavelength, ν is the frequency, m is the mass.\\n3. **Uncertainty principle**: As we discussed earlier, Planck's constant appears in the uncertainty principle for energy and time.\\n\\n**Impact on physics:**\\n\\nPlanck's constant has profoundly impacted our understanding of the physical world:\\n\\n1. **Quantum mechanics**: Planck's work laid the foundation for quantum mechanics, a fundamental theory that describes the behavior of matter and energy at the atomic and subatomic level.\\n2. **Particle physics**: The value of Planck's constant is essential in particle physics, where it helps describe the interactions between particles.\\n3. **Cosmology**: Planck's constant plays a role in understanding the expansion history of the universe and the properties of dark matter.\\n\\n**Some mind-bending implications:**\\n\\nThe concept of Planck's constant has some fascinating implications:\\n\\n1. **Fundamental limits:** Planck's constant sets fundamental limits on how precisely we can measure certain properties, like energy and time.\\n2. **Discrete vs. continuous:** The introduction of Planck's constant challenged the idea of continuous energy and momentum, revealing that these quantities come in discrete packets (quanta).\\n3. **The strange world of quantum mechanics:** Planck's work has led to the development of theories that describe strange phenomena, such as wave-particle duality and superposition.\\n\\nIn summary, Planck's constant is a fundamental constant that underlies many aspects of quantum mechanics and particle physics. Its value has far-reaching implications for our understanding of energy, time, and matter, and continues to inspire research in these areas!\", additional_kwargs={}, response_metadata={'model': 'llama3.1', 'created_at': '2025-01-03T16:41:57.2835015Z', 'done': True, 'done_reason': 'stop', 'total_duration': 16838182400, 'load_duration': 2091584400, 'prompt_eval_count': 446, 'prompt_eval_duration': 322000000, 'eval_count': 634, 'eval_duration': 13776000000, 'message': Message(role='assistant', content='', images=None, tool_calls=None)}, id='run-d5c69bc4-33f1-4f8d-97a5-f402d4f24b2c-0', usage_metadata={'input_tokens': 446, 'output_tokens': 634, 'total_tokens': 1080})]}"
      ]
     },
     "execution_count": 26,
     "metadata": {},
     "output_type": "execute_result"
    }
   ],
   "source": [
    "messages_out_trim"
   ]
  },
  {
   "cell_type": "code",
   "execution_count": null,
   "metadata": {},
   "outputs": [],
   "source": []
  }
 ],
 "metadata": {
  "kernelspec": {
   "display_name": "langgraph-academy-GSfDBkeK-py3.12",
   "language": "python",
   "name": "python3"
  },
  "language_info": {
   "codemirror_mode": {
    "name": "ipython",
    "version": 3
   },
   "file_extension": ".py",
   "mimetype": "text/x-python",
   "name": "python",
   "nbconvert_exporter": "python",
   "pygments_lexer": "ipython3",
   "version": "3.12.4"
  }
 },
 "nbformat": 4,
 "nbformat_minor": 2
}
