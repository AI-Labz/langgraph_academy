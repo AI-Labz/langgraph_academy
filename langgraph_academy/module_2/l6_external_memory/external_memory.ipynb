{
 "cells": [
  {
   "cell_type": "markdown",
   "metadata": {},
   "source": [
    "# Chatbot with message summarization & external database memory (Postgres)"
   ]
  },
  {
   "cell_type": "markdown",
   "metadata": {},
   "source": [
    "## Review\n",
    "\n",
    "We've covered how to customize graph state schema and reducer.\n",
    "\n",
    "We've also shown a number of tricks for trimming or filtering messages in graph state.\n",
    "\n",
    "We've used these concepts in a Chatbot with memory that produces a running summary of the conversation.\n",
    "\n",
    "## Goals\n",
    "\n",
    "But, what if we want our Chatbot to have memory that persists indefinitely?\n",
    "\n",
    "Now, we'll introduce some more advanced checkpointers that support external databases.\n",
    "\n",
    "Here, we'll use the Postgres checkpointer!"
   ]
  },
  {
   "cell_type": "markdown",
   "metadata": {
    "vscode": {
     "languageId": "plaintext"
    }
   },
   "source": [
    "## Dependencies"
   ]
  },
  {
   "cell_type": "code",
   "execution_count": 1,
   "metadata": {},
   "outputs": [],
   "source": [
    "from psycopg import AsyncConnection, rows\n",
    "from langgraph.checkpoint.postgres.aio import AsyncPostgresSaver\n",
    "from langgraph.graph import StateGraph, START, END, MessagesState\n",
    "from langchain_ollama import ChatOllama\n",
    "from langchain_core.messages import SystemMessage, HumanMessage, AIMessage, RemoveMessage\n",
    "from dotenv import load_dotenv\n",
    "from IPython.display import display, Image\n",
    "import os\n",
    "from pathlib import Path\n",
    "from pprint import pprint\n",
    "import asyncio"
   ]
  },
  {
   "cell_type": "markdown",
   "metadata": {},
   "source": [
    "## Postgres"
   ]
  },
  {
   "cell_type": "code",
   "execution_count": 2,
   "metadata": {},
   "outputs": [
    {
     "name": "stdout",
     "output_type": "stream",
     "text": [
      "c:\\Users\\guilh\\Trabalho\\AILabz\\repositories\\langgraph_academy\\db.env\n",
      "Connected successfully with autocommit enabled!\n"
     ]
    }
   ],
   "source": [
    "current = Path(os.getcwd())\n",
    "\n",
    "db_env_path = current.parent.parent.parent / 'db.env'\n",
    "print(db_env_path)\n",
    "\n",
    "load_dotenv(dotenv_path=db_env_path, encoding='utf-8-sig')\n",
    "\n",
    "db_config= {\n",
    "    \"dbname\": os.getenv(\"POSTGRES_DB\"),\n",
    "    \"user\": os.getenv(\"POSTGRES_USER\"),\n",
    "    \"password\": os.getenv(\"POSTGRES_PASSWORD\"),\n",
    "    \"host\": os.getenv(\"POSTGRES_HOST\"),\n",
    "    \"port\": os.getenv(\"POSTGRES_PORT\")\n",
    "}\n",
    "\n",
    "try:\n",
    "    conn = await AsyncConnection.connect(**db_config, row_factory=rows.dict_row, keepalives=1,\n",
    "    keepalives_idle=30,  # Time in seconds before sending keepalive probes\n",
    "    keepalives_interval=10,  # Time between keepalive probes\n",
    "    keepalives_count=5)\n",
    "    await conn.set_autocommit(True)\n",
    "    print(\"Connected successfully with autocommit enabled!\")\n",
    "except Exception as e:\n",
    "    print(f\"Connection error details: {str(e)}\")"
   ]
  },
  {
   "cell_type": "code",
   "execution_count": 3,
   "metadata": {},
   "outputs": [
    {
     "name": "stdout",
     "output_type": "stream",
     "text": [
      "Checkpointer setup completed successfully.\n"
     ]
    }
   ],
   "source": [
    "memory = AsyncPostgresSaver(conn)\n",
    "# Setup the checkpointer\n",
    "try:\n",
    "    await memory.setup()\n",
    "    print(\"Checkpointer setup completed successfully.\")\n",
    "except Exception as e:\n",
    "    print(f\"An error occurred during checkpointer setup: {str(e)}\")"
   ]
  },
  {
   "cell_type": "markdown",
   "metadata": {},
   "source": [
    "## Graph\n"
   ]
  },
  {
   "cell_type": "code",
   "execution_count": 4,
   "metadata": {},
   "outputs": [],
   "source": [
    "llm = ChatOllama(\n",
    "    model=\"llama3.1\",\n",
    "    base_url=\"http://localhost:11434\",\n",
    "    temperature=0.8,\n",
    "    max_tokens=1000\n",
    ")"
   ]
  },
  {
   "cell_type": "code",
   "execution_count": 5,
   "metadata": {},
   "outputs": [],
   "source": [
    "class State(MessagesState):\n",
    "    summary: str"
   ]
  },
  {
   "cell_type": "code",
   "execution_count": 6,
   "metadata": {},
   "outputs": [],
   "source": [
    "def call_model(state: State):\n",
    "\n",
    "    summary = state.get(\"summary\",\"\")\n",
    "\n",
    "    if summary:\n",
    "\n",
    "        # Add summary to system message\n",
    "        system_message = f\"Summary of conversation earlier: {summary}\"\n",
    "\n",
    "        messages = [SystemMessage(content=system_message)] + state[\"messages\"]\n",
    "    else:\n",
    "        messages = state[\"messages\"]\n",
    "\n",
    "    response = llm.invoke(messages)\n",
    "    return {\n",
    "        \"messages\": response\n",
    "    }\n",
    "\n",
    "\n",
    "def summarize_conversation(state: State):\n",
    "\n",
    "    summary = state.get(\"summary\",\"\")\n",
    "\n",
    "    if summary:\n",
    "\n",
    "        summary_message = (\n",
    "            f\"This is summary of conversation to date: {summary}\\n\\n\"\n",
    "            \"Extend the summary by taking into account the new messages above:\"\n",
    "        )\n",
    "    else:\n",
    "        summary_message = \"Create a summary of the conversation above:\"\n",
    "\n",
    "    messages = state[\"messages\"] + [HumanMessage(content=summary_message)]\n",
    "    response = llm.invoke(messages)\n",
    "\n",
    "    # Delete all but the 2 most recent messages\n",
    "    delete_messages = [RemoveMessage(id=m.id) for m in state[\"messages\"][-2:]]\n",
    "    return {\"summary\":response.content, \"messages\": delete_messages}\n",
    "\n",
    "\n",
    "def should_continue(state:State):\n",
    "\n",
    "    \"\"\"Return the next node to execute\"\"\"\n",
    "    messages = state[\"messages\"]\n",
    "\n",
    "    if len(messages) > 6:\n",
    "        return \"summarize_conversation\"\n",
    "    return END"
   ]
  },
  {
   "cell_type": "code",
   "execution_count": 7,
   "metadata": {},
   "outputs": [
    {
     "data": {
      "image/png": "[encoded data removed]",
      "text/plain": [
       "<IPython.core.display.Image object>"
      ]
     },
     "metadata": {},
     "output_type": "display_data"
    }
   ],
   "source": [
    "builder = StateGraph(State)\n",
    "builder.add_node(\"conversation\", call_model)\n",
    "builder.add_node(\"summarize_conversation\", summarize_conversation)\n",
    "\n",
    "# Add the edges\n",
    "builder.add_edge(START,\"conversation\")\n",
    "builder.add_conditional_edges(\"conversation\", should_continue)\n",
    "builder.add_edge(\"summarize_conversation\", END)\n",
    "\n",
    "# Compile the graph\n",
    "graph = builder.compile(checkpointer=memory)\n",
    "\n",
    "# Display it\n",
    "display(Image(graph.get_graph().draw_mermaid_png()))\n"
   ]
  },
  {
   "cell_type": "markdown",
   "metadata": {},
   "source": [
    "Now we can invoke our graph several times"
   ]
  },
  {
   "cell_type": "code",
   "execution_count": 8,
   "metadata": {},
   "outputs": [],
   "source": [
    "# Create a thread\n",
    "config = {\"configurable\":{\"thread_id\":\"1\"}}"
   ]
  },
  {
   "cell_type": "code",
   "execution_count": 34,
   "metadata": {},
   "outputs": [
    {
     "name": "stdout",
     "output_type": "stream",
     "text": [
      "==================================\u001b[1m Ai Message \u001b[0m==================================\n",
      "\n",
      "Olá Guilherme! Nice to meet you. How can I assist you today?\n",
      "==================================\u001b[1m Ai Message \u001b[0m==================================\n",
      "\n",
      "Your name is Guilherme! What's your surname, by the way? (In Portuguese, we usually use both first and last names)\n",
      "==================================\u001b[1m Ai Message \u001b[0m==================================\n",
      "\n",
      "That's great to hear! Math and physics are fascinating subjects. Do you have a favorite area within these subjects, such as algebra, geometry, calculus, electromagnetism, or quantum mechanics?\n",
      "\n",
      "Also, do you have any experience with programming languages that can help with problem-solving in math and physics, like Python, MATLAB, or C++?\n"
     ]
    }
   ],
   "source": [
    "\n",
    "\n",
    "try:\n",
    "    # Start the conversation\n",
    "    input_message = HumanMessage(\"Hello, I'm Guilherme\")\n",
    "    output = await graph.ainvoke({\"messages\": [input_message]}, config=config)\n",
    "    for m in output[\"messages\"][-1:]:\n",
    "        m.pretty_print()\n",
    "\n",
    "    # Continue the conversation\n",
    "    input_message = HumanMessage(\"What is my name?\")\n",
    "    output = await graph.ainvoke({\"messages\": [input_message]}, config=config)\n",
    "    for m in output[\"messages\"][-1:]:\n",
    "        m.pretty_print()\n",
    "\n",
    "    # Continue the conversation\n",
    "    input_message = HumanMessage(\"I like math and physics\")\n",
    "    output = await graph.ainvoke({\"messages\": [input_message]}, config=config)\n",
    "    for m in output[\"messages\"][-1:]:\n",
    "        m.pretty_print()\n",
    "\n",
    "except Exception as e:\n",
    "    print(f\"An error occurred: {str(e)}\")\n",
    "    await conn.rollback()"
   ]
  },
  {
   "cell_type": "markdown",
   "metadata": {},
   "source": [
    "## Persising State\n",
    "\n",
    "Using database like PostgresSQL, SQLite, etc means state is persisted at disk.\n",
    "\n",
    "So if I restart the notebook kernel, I'll still be able to retrieve our conversation from thread \"1\"."
   ]
  },
  {
   "cell_type": "code",
   "execution_count": 10,
   "metadata": {},
   "outputs": [
    {
     "data": {
      "text/plain": [
       "StateSnapshot(values={'messages': [HumanMessage(content=\"Hello, I'm Guilherme\", additional_kwargs={}, response_metadata={}, id='7d033989-cb4c-42b8-aa39-27eb6f52203e'), AIMessage(content='Olá Guilherme! Nice to meet you. How can I assist you today?', additional_kwargs={}, response_metadata={'model': 'llama3.1', 'created_at': '2025-01-06T17:07:14.0244657Z', 'done': True, 'done_reason': 'stop', 'total_duration': 5752112900, 'load_duration': 4730341800, 'prompt_eval_count': 17, 'prompt_eval_duration': 371000000, 'eval_count': 19, 'eval_duration': 649000000, 'message': {'role': 'assistant', 'content': '', 'images': None, 'tool_calls': None}}, id='run-12dad573-6ecd-467b-bcdd-8f33f7879a17-0', usage_metadata={'input_tokens': 17, 'output_tokens': 19, 'total_tokens': 36}), HumanMessage(content='What is my name?', additional_kwargs={}, response_metadata={}, id='69ac1176-bd08-4757-b7cb-719f2d60b2bc'), AIMessage(content=\"Your name is Guilherme! What's your surname, by the way? (In Portuguese, we usually use both first and last names)\", additional_kwargs={}, response_metadata={'model': 'llama3.1', 'created_at': '2025-01-06T17:07:15.8152224Z', 'done': True, 'done_reason': 'stop', 'total_duration': 1684799900, 'load_duration': 25396800, 'prompt_eval_count': 50, 'prompt_eval_duration': 76000000, 'eval_count': 30, 'eval_duration': 993000000, 'message': {'role': 'assistant', 'content': '', 'images': None, 'tool_calls': None}}, id='run-12a06093-f547-41db-97d6-9f290b0c1908-0', usage_metadata={'input_tokens': 50, 'output_tokens': 30, 'total_tokens': 80}), HumanMessage(content='I like math and physics', additional_kwargs={}, response_metadata={}, id='b63db2c7-1b44-4cbf-96a0-5918dc6148b6'), AIMessage(content=\"That's great to hear! Math and physics are fascinating subjects. Do you have a favorite area within these subjects, such as algebra, geometry, calculus, electromagnetism, or quantum mechanics?\\n\\nAlso, do you have any experience with programming languages that can help with problem-solving in math and physics, like Python, MATLAB, or C++?\", additional_kwargs={}, response_metadata={'model': 'llama3.1', 'created_at': '2025-01-06T17:07:18.4453201Z', 'done': True, 'done_reason': 'stop', 'total_duration': 2523634900, 'load_duration': 13809800, 'prompt_eval_count': 94, 'prompt_eval_duration': 95000000, 'eval_count': 70, 'eval_duration': 2411000000, 'message': {'role': 'assistant', 'content': '', 'images': None, 'tool_calls': None}}, id='run-12dbcca6-1b88-44b8-85dc-56cdece793af-0', usage_metadata={'input_tokens': 94, 'output_tokens': 70, 'total_tokens': 164})]}, next=(), config={'configurable': {'thread_id': '1', 'checkpoint_ns': '', 'checkpoint_id': '1efcc50a-f6e8-637b-8007-a7f9c76a0ded'}}, metadata={'step': 7, 'source': 'loop', 'writes': {'conversation': {'messages': AIMessage(content=\"That's great to hear! Math and physics are fascinating subjects. Do you have a favorite area within these subjects, such as algebra, geometry, calculus, electromagnetism, or quantum mechanics?\\n\\nAlso, do you have any experience with programming languages that can help with problem-solving in math and physics, like Python, MATLAB, or C++?\", additional_kwargs={}, response_metadata={'done': True, 'model': 'llama3.1', 'message': Message(role='assistant', content='', images=None, tool_calls=None), 'created_at': '2025-01-06T17:07:18.4453201Z', 'eval_count': 70, 'done_reason': 'stop', 'eval_duration': 2411000000, 'load_duration': 13809800, 'total_duration': 2523634900, 'prompt_eval_count': 94, 'prompt_eval_duration': 95000000}, id='run-12dbcca6-1b88-44b8-85dc-56cdece793af-0', usage_metadata={'input_tokens': 94, 'output_tokens': 70, 'total_tokens': 164})}}, 'parents': {}, 'thread_id': '1'}, created_at='2025-01-06T17:07:18.448012+00:00', parent_config={'configurable': {'thread_id': '1', 'checkpoint_ns': '', 'checkpoint_id': '1efcc50a-dec6-600c-8006-8c20b22fd607'}}, tasks=())"
      ]
     },
     "execution_count": 10,
     "metadata": {},
     "output_type": "execute_result"
    }
   ],
   "source": [
    "graph_state = await graph.aget_state(config)\n",
    "graph_state"
   ]
  },
  {
   "cell_type": "markdown",
   "metadata": {},
   "source": [
    "## Some pinpoints\n",
    "\n",
    "As I was investigating how PostgresSaver works I found two things that bothered me:\n",
    "\n",
    "- There is no documentation on how the tables are organized in the database to store the checkpoints\n",
    "- There is no direct API to delete a checkpoint, only to create, read and update.\n",
    "\n",
    "So I decided to adrees these issues here\n",
    "\n",
    "### The data organization\n",
    "\n",
    "The database model for the PostgreSQL checkpointer in LangGraph is designed to store, manage, and retrieve checkpoints representing the state of a conversation or workflow at various points in time. Here's a detailed explanation of the schema:\n",
    "\n",
    "---\n",
    "\n",
    "### Key Tables\n",
    "\n",
    "#### 1. **`checkpoint_migrations`**\n",
    "- **Purpose**: Tracks the version of database migrations.\n",
    "- **Columns**:\n",
    "  - `v`: Integer, primary key, represents the migration version applied.\n",
    "\n",
    "---\n",
    "\n",
    "#### 2. **`checkpoints`**\n",
    "- **Purpose**: Stores the main checkpoint data, including metadata and hierarchical relationships.\n",
    "- **Columns**:\n",
    "  - `thread_id`: Text, identifier for a conversation or workflow thread.\n",
    "  - `checkpoint_ns`: Text, namespace for the checkpoint (default is empty string).\n",
    "  - `checkpoint_id`: Text, unique ID for the checkpoint within a thread.\n",
    "  - `parent_checkpoint_id`: Text, ID of the parent checkpoint (for hierarchical relationships or versioning).\n",
    "  - `type`: Text, type of checkpoint (could be a specific type of workflow or conversation state).\n",
    "  - `checkpoint`: JSONB, stores the serialized checkpoint data.\n",
    "  - `metadata`: JSONB, additional metadata about the checkpoint (default is an empty JSON object).\n",
    "- **Primary Key**: Combination of `thread_id`, `checkpoint_ns`, and `checkpoint_id`.\n",
    "\n",
    "---\n",
    "\n",
    "#### 3. **`checkpoint_blobs`**\n",
    "- **Purpose**: Stores blobs (binary large objects) associated with checkpoints for specific channels and versions.\n",
    "- **Columns**:\n",
    "  - `thread_id`: Text, thread identifier.\n",
    "  - `checkpoint_ns`: Text, namespace for the checkpoint.\n",
    "  - `channel`: Text, name of the channel the blob is associated with (e.g., a specific data stream or module).\n",
    "  - `version`: Text, version of the blob.\n",
    "  - `type`: Text, type of the blob (e.g., JSON, binary, or a specific data type).\n",
    "  - `blob`: BYTEA, the actual binary data.\n",
    "- **Primary Key**: Combination of `thread_id`, `checkpoint_ns`, `channel`, and `version`.\n",
    "\n",
    "---\n",
    "\n",
    "#### 4. **`checkpoint_writes`**\n",
    "- **Purpose**: Tracks writes to checkpoints, enabling reconstruction or rollback of states.\n",
    "- **Columns**:\n",
    "  - `thread_id`: Text, thread identifier.\n",
    "  - `checkpoint_ns`: Text, namespace for the checkpoint.\n",
    "  - `checkpoint_id`: Text, identifier for the checkpoint being written to.\n",
    "  - `task_id`: Text, ID of the task associated with the write operation.\n",
    "  - `idx`: Integer, index to preserve the order of writes.\n",
    "  - `channel`: Text, channel the write is associated with.\n",
    "  - `type`: Text, type of data being written.\n",
    "  - `blob`: BYTEA, the binary data written.\n",
    "- **Primary Key**: Combination of `thread_id`, `checkpoint_ns`, `checkpoint_id`, `task_id`, and `idx`.\n",
    "\n",
    "---\n",
    "\n",
    "### How This Schema Works in Practice\n",
    "\n",
    "1. **Checkpoints**:\n",
    "   - A checkpoint represents a snapshot of the conversation or workflow.\n",
    "   - Checkpoints have hierarchical relationships (parent-child).\n",
    "\n",
    "2. **Blobs**:\n",
    "   - Associated with specific checkpoints and channels, blobs store supplementary binary data (e.g., results, intermediate data).\n",
    "\n",
    "3. **Writes**:\n",
    "   - Tracks changes made to checkpoints, allowing stepwise updates and potential reconstruction of states.\n",
    "\n",
    "4. **Metadata**:\n",
    "   - Facilitates filtering, searching, and managing checkpoints without needing to decode the main checkpoint data.\n",
    "\n",
    "5. **Indexes**:\n",
    "   - Indexes on `thread_id` columns across tables improve query performance for workflows/conversations scoped by a thread.\n",
    "\n",
    "---\n",
    "\n",
    "### Common Use Cases\n",
    "\n",
    "- **Storing State**: Use checkpoints to capture the state of a conversation or task.\n",
    "- **Versioning**: Store multiple versions of the state using blobs and checkpoint relationships.\n",
    "- **Retrieving Data**: Efficiently query for the latest or specific states, including metadata and related binary data.\n",
    "- **Reconstruction**: Use `checkpoint_writes` to reconstruct the sequence of operations applied to a checkpoint.\n",
    "\n",
    "---\n",
    "\n",
    "### For Deletion\n",
    "\n",
    "In the code below, as I used `AsyncConnection`, I hade to create async / await operations.\n",
    "\n",
    "Nonetheless, `PostgresSaver` allows you to access the `Connection` object you passed as an argument to instantiate the saver.\n",
    "\n",
    "So you can create a `cursor` object from the connection `PostgresSaver.conn.cursor()` and then use it to execute a deletion operation.\n",
    "\n",
    "Finnaly, you will commit the updates to the database using the `commit` method from `Connection`.\n",
    "\n",
    "In the example below you can delete the entire conversation by passing a thread id, but you can customize your query to delete by other filters."
   ]
  },
  {
   "cell_type": "code",
   "execution_count": 26,
   "metadata": {},
   "outputs": [
    {
     "name": "stdout",
     "output_type": "stream",
     "text": [
      "None\n"
     ]
    },
    {
     "name": "stderr",
     "output_type": "stream",
     "text": [
      "C:\\Users\\guilh\\AppData\\Local\\Temp\\ipykernel_23920\\558580847.py:14: RuntimeWarning: coroutine 'AsyncConnection.commit' was never awaited\n",
      "  conn.commit()\n",
      "RuntimeWarning: Enable tracemalloc to get the object allocation traceback\n"
     ]
    }
   ],
   "source": [
    "async def delete_conversation(thread_id: str):\n",
    "    async with memory.conn.cursor() as cursor:\n",
    "        await cursor.execute(\"\"\"\n",
    "            DELETE FROM checkpoints WHERE thread_id=%s;\n",
    "        \"\"\", (thread_id,))\n",
    "        await cursor.execute(\"\"\"DELETE FROM checkpoint_blobs WHERE thread_id=%s\"\"\",(thread_id,))\n",
    "        await cursor.execute(\"\"\"DELETE FROM checkpoint_writes WHERE thread_id=%s\"\"\",(thread_id,))\n",
    "        conn.commit()\n",
    "\n",
    "# Run the coroutine\n",
    "await delete_conversation(\"1\")\n"
   ]
  }
 ],
 "metadata": {
  "kernelspec": {
   "display_name": "langgraph-academy-GSfDBkeK-py3.12",
   "language": "python",
   "name": "python3"
  },
  "language_info": {
   "codemirror_mode": {
    "name": "ipython",
    "version": 3
   },
   "file_extension": ".py",
   "mimetype": "text/x-python",
   "name": "python",
   "nbconvert_exporter": "python",
   "pygments_lexer": "ipython3",
   "version": "3.12.4"
  }
 },
 "nbformat": 4,
 "nbformat_minor": 2
}
