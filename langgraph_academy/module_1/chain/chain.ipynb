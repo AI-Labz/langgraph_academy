{
 "cells": [
  {
   "cell_type": "markdown",
   "metadata": {},
   "source": [
    "# Chain\n",
    "\n",
    "<center><img src=\"../../../assets/chain.png\" width=\"900\" height=\"300\" alt=\"chain\"></img></center>"
   ]
  },
  {
   "cell_type": "markdown",
   "metadata": {},
   "source": [
    "Now, let's build a chain, which is a process that is composed by sequential sub processes. Here we will use 4 concepts:\n",
    "\n",
    "1. Using chat messages in the graph\n",
    "2. Using chat models\n",
    "3. Binding tools to our LLM\n",
    "4. Executing tools calls in our graph"
   ]
  },
  {
   "cell_type": "markdown",
   "metadata": {},
   "source": [
    "## Dependencies"
   ]
  },
  {
   "cell_type": "code",
   "execution_count": 43,
   "metadata": {},
   "outputs": [],
   "source": [
    "from pprint import pprint\n",
    "from langchain_core.messages import HumanMessage, AIMessage, SystemMessage\n",
    "from langchain_ollama import ChatOllama\n",
    "from typing import TypedDict, Annotated\n",
    "from langchain_core.messages import AnyMessage\n",
    "from langgraph.graph.message import add_messages \n",
    "from langgraph.graph import StateGraph, START, END\n",
    "from IPython.display import display, Image"
   ]
  },
  {
   "cell_type": "markdown",
   "metadata": {},
   "source": [
    "## Messages\n",
    "\n",
    "Chat models uses `messages` as the content for input and outputs, this will model a conversation, which later we will calla `thread`.\n",
    "\n",
    "In the conversation a `message` can take different roles, including human content (`HumanMessage`), chat model content (`AIMessage`), the chat instruct behaviour (`SystemMessage`) and tool answer (`ToolMessage`).\n",
    "\n",
    "Let's create a list of messages. Each message can be supplied with a few attributes:\n",
    "\n",
    "- `content` - Content of the message\n",
    "- `name` - optional, who is creating the message\n",
    "- `response_metadata` - optional, a dictionary of metadata specific to each model provider (openai,  anthropic, llama, etc)"
   ]
  },
  {
   "cell_type": "code",
   "execution_count": 44,
   "metadata": {},
   "outputs": [
    {
     "name": "stdout",
     "output_type": "stream",
     "text": [
      "==================================\u001b[1m Ai Message \u001b[0m==================================\n",
      "Name: Bot\n",
      "\n",
      "Hi, I'm a bot!\n",
      "================================\u001b[1m Human Message \u001b[0m=================================\n",
      "Name: Guilherme\n",
      "\n",
      "Hi, I'm a human!\n",
      "==================================\u001b[1m Ai Message \u001b[0m==================================\n",
      "Name: Bot\n",
      "\n",
      "Hi human, how can I assist you today?\n",
      "================================\u001b[1m Human Message \u001b[0m=================================\n",
      "Name: Guilherme\n",
      "\n",
      "Can you tell me the weather in New York?\n"
     ]
    }
   ],
   "source": [
    "messages = [AIMessage(content=f\"Hi, I'm a bot!\", name=\"Bot\")]\n",
    "messages.extend([HumanMessage(content=f\"Hi, I'm a human!\", name=\"Guilherme\")])\n",
    "messages.extend([AIMessage(content=f\"Hi human, how can I assist you today?\", name=\"Bot\")])\n",
    "messages.extend([HumanMessage(content=f\"Can you tell me the weather in New York?\", name=\"Guilherme\")])\n",
    "\n",
    "\n",
    "for m in messages:\n",
    "    m.pretty_print()"
   ]
  },
  {
   "cell_type": "markdown",
   "metadata": {},
   "source": [
    "## Chat Models\n",
    "\n",
    "A chat model can use a sequence of messages as input and support messages roles, as discussed above.\n",
    "\n",
    "There are many to choose from such as OpenAI models, Anthropic, Google, etc. we are going to use Llama 3.1 8B from Ollama which is locally installed.\n",
    "\n",
    "We will load the chat model and invoke it with alistof messages.\n",
    "\n",
    "The result is an `AIMessage`."
   ]
  },
  {
   "cell_type": "code",
   "execution_count": 45,
   "metadata": {},
   "outputs": [],
   "source": [
    "llm = ChatOllama(\n",
    "    model=\"llama3.1\",\n",
    "    base_url=\"http://localhost:11434\",\n",
    "    max_tokens=512,\n",
    "    temperature=0.8,\n",
    ")"
   ]
  },
  {
   "cell_type": "code",
   "execution_count": 46,
   "metadata": {},
   "outputs": [
    {
     "data": {
      "text/plain": [
       "\"I'd love to help. However, I'm a large language model, I don't have real-time access to current weather conditions. But I can suggest some ways for you to find out the current weather in New York:\\n\\n1. You can check online weather websites such as accuweather.com or wunderground.com.\\n2. Use a virtual assistant like Siri, Google Assistant, or Alexa to ask about the weather in New York.\\n3. Check the website of the National Weather Service (weather.gov) for up-to-date forecasts and current conditions.\\n\\nIf you want, I can also suggest some ways to find out the typical weather patterns for different seasons in New York?\""
      ]
     },
     "execution_count": 46,
     "metadata": {},
     "output_type": "execute_result"
    }
   ],
   "source": [
    "response = llm.invoke(messages)\n",
    "response.content"
   ]
  },
  {
   "cell_type": "code",
   "execution_count": 47,
   "metadata": {},
   "outputs": [
    {
     "data": {
      "text/plain": [
       "langchain_core.messages.ai.AIMessage"
      ]
     },
     "execution_count": 47,
     "metadata": {},
     "output_type": "execute_result"
    }
   ],
   "source": [
    "\n",
    "type(response)"
   ]
  },
  {
   "cell_type": "code",
   "execution_count": 48,
   "metadata": {},
   "outputs": [
    {
     "data": {
      "text/plain": [
       "{'model': 'llama3.1',\n",
       " 'created_at': '2024-12-28T00:22:36.1922195Z',\n",
       " 'done': True,\n",
       " 'done_reason': 'stop',\n",
       " 'total_duration': 3566427200,\n",
       " 'load_duration': 24378700,\n",
       " 'prompt_eval_count': 59,\n",
       " 'prompt_eval_duration': 174000000,\n",
       " 'eval_count': 136,\n",
       " 'eval_duration': 2804000000,\n",
       " 'message': Message(role='assistant', content='', images=None, tool_calls=None)}"
      ]
     },
     "execution_count": 48,
     "metadata": {},
     "output_type": "execute_result"
    }
   ],
   "source": [
    "response.response_metadata"
   ]
  },
  {
   "cell_type": "markdown",
   "metadata": {},
   "source": [
    "## Tool\n",
    "\n",
    "A tool is needed whenever you want a mode to control  parts of your code or call  out externalAPIs.\n",
    "\n",
    "Many LLM providers support tool calling.\n",
    "\n",
    "The tool calling interface in LangChain is simple, you can pass any Python function into `ChaModel.bind_tools()`.\n",
    "\n",
    "<center><img src=\"../../../assets/tool.png\" width=\"900\" alt=\"tool\"></img></center>\n"
   ]
  },
  {
   "cell_type": "code",
   "execution_count": 49,
   "metadata": {},
   "outputs": [],
   "source": [
    "def multiply(a: int, b: int) -> int:\n",
    "    \"\"\"\n",
    "    Multiply a and  b\n",
    "\n",
    "    Args:\n",
    "        a (int): First number\n",
    "        b (int): Second number\n",
    "    \"\"\"\n",
    "    return a * b"
   ]
  },
  {
   "cell_type": "code",
   "execution_count": 50,
   "metadata": {},
   "outputs": [],
   "source": [
    "llm_with_tools = llm.bind_tools([multiply])"
   ]
  },
  {
   "cell_type": "code",
   "execution_count": 51,
   "metadata": {},
   "outputs": [
    {
     "data": {
      "text/plain": [
       "AIMessage(content='', additional_kwargs={}, response_metadata={'model': 'llama3.1', 'created_at': '2024-12-28T00:22:45.5490996Z', 'done': True, 'done_reason': 'stop', 'total_duration': 839630500, 'load_duration': 15370100, 'prompt_eval_count': 176, 'prompt_eval_duration': 264000000, 'eval_count': 22, 'eval_duration': 558000000, 'message': Message(role='assistant', content='', images=None, tool_calls=None)}, id='run-0bdc3b09-ea0d-4a88-a0c9-0568247bf6b4-0', tool_calls=[{'name': 'multiply', 'args': {'a': 2, 'b': 3}, 'id': '3f2aca8c-abc8-4104-a19a-2cfab218a04d', 'type': 'tool_call'}], usage_metadata={'input_tokens': 176, 'output_tokens': 22, 'total_tokens': 198})"
      ]
     },
     "execution_count": 51,
     "metadata": {},
     "output_type": "execute_result"
    }
   ],
   "source": [
    "tool_call = llm_with_tools.invoke([HumanMessage(content=\"Can you multiply 2 by 3?\", name=\"Guilherme\")])\n",
    "tool_call"
   ]
  },
  {
   "cell_type": "code",
   "execution_count": 52,
   "metadata": {},
   "outputs": [
    {
     "data": {
      "text/plain": [
       "[{'name': 'multiply',\n",
       "  'args': {'a': 2, 'b': 3},\n",
       "  'id': '3f2aca8c-abc8-4104-a19a-2cfab218a04d',\n",
       "  'type': 'tool_call'}]"
      ]
     },
     "execution_count": 52,
     "metadata": {},
     "output_type": "execute_result"
    }
   ],
   "source": [
    "tool_call.tool_calls"
   ]
  },
  {
   "cell_type": "markdown",
   "metadata": {},
   "source": [
    "## Putting all together - Graph\n",
    "\n",
    "Let's use `messages` in our graph state, first let's define the `MessageState` by inheriting `TypedDict` with a single key: `messages`, which is simply a list od `AnyMessage`"
   ]
  },
  {
   "cell_type": "code",
   "execution_count": 53,
   "metadata": {},
   "outputs": [],
   "source": [
    "class MessagesState(TypedDict):\n",
    "\n",
    "    messages: list[AnyMessage]"
   ]
  },
  {
   "cell_type": "markdown",
   "metadata": {},
   "source": [
    "## Reducers\n",
    "\n",
    "But we have a problem, as our graph runs, we want ttto append messages to our `messages` state key, however, naturally the graph override the state at each step.\n",
    "\n",
    "So we can use reducers, they allow us to specify how state updates are performed at key level.\n",
    "\n",
    "If no reducer is provided, the graph will override the state, since we want to append the messages we can use the pre-built `add_messages` reducer."
   ]
  },
  {
   "cell_type": "code",
   "execution_count": 54,
   "metadata": {},
   "outputs": [],
   "source": [
    "class MessagesState(TypedDict):\n",
    "    \n",
    "    messages: Annotated[list[AnyMessage], add_messages]"
   ]
  },
  {
   "cell_type": "markdown",
   "metadata": {},
   "source": [
    "## Graph Construction"
   ]
  },
  {
   "cell_type": "code",
   "execution_count": 55,
   "metadata": {},
   "outputs": [],
   "source": [
    "def tool_calling_llm(state: MessagesState):\n",
    "    return {\n",
    "        \"messages\": llm_with_tools.invoke(state[\"messages\"])\n",
    "    }"
   ]
  },
  {
   "cell_type": "code",
   "execution_count": 56,
   "metadata": {},
   "outputs": [],
   "source": [
    "graph_builder = StateGraph(MessagesState)\n",
    "graph_builder.add_node(\"tool_calling_llm\", tool_calling_llm)\n",
    "graph_builder.add_edge(START, \"tool_calling_llm\")\n",
    "graph_builder.add_edge(\"tool_calling_llm\", END)\n",
    "graph = graph_builder.compile()"
   ]
  },
  {
   "cell_type": "code",
   "execution_count": 57,
   "metadata": {},
   "outputs": [
    {
     "data": {
      "image/png": "[encoded data removed]",
      "text/plain": [
       "<IPython.core.display.Image object>"
      ]
     },
     "metadata": {},
     "output_type": "display_data"
    }
   ],
   "source": [
    "display(Image(graph.get_graph().draw_mermaid_png()))"
   ]
  },
  {
   "cell_type": "markdown",
   "metadata": {},
   "source": [
    "Let's invoke the LLM such that it won't invoke any tool."
   ]
  },
  {
   "cell_type": "code",
   "execution_count": 58,
   "metadata": {},
   "outputs": [
    {
     "data": {
      "text/plain": [
       "{'messages': [HumanMessage(content='Hello', additional_kwargs={}, response_metadata={}, name='Guilherme', id='7e37dcf8-459d-4178-bf3d-c6490a16204f'),\n",
       "  AIMessage(content='No JSON response is needed as the function call does not match any of the provided functions. The prompt \"Hello\" does not relate to any mathematical operation and therefore cannot be answered using the given functions.', additional_kwargs={}, response_metadata={'model': 'llama3.1', 'created_at': '2024-12-28T00:22:59.7119745Z', 'done': True, 'done_reason': 'stop', 'total_duration': 1047868300, 'load_duration': 15262500, 'prompt_eval_count': 168, 'prompt_eval_duration': 59000000, 'eval_count': 41, 'eval_duration': 972000000, 'message': Message(role='assistant', content='No JSON response is needed as the function call does not match any of the provided functions. The prompt \"Hello\" does not relate to any mathematical operation and therefore cannot be answered using the given functions.', images=None, tool_calls=None)}, id='run-dc83822d-5d6c-46e0-acab-818a24f6ea50-0', usage_metadata={'input_tokens': 168, 'output_tokens': 41, 'total_tokens': 209})]}"
      ]
     },
     "execution_count": 58,
     "metadata": {},
     "output_type": "execute_result"
    }
   ],
   "source": [
    "messages = graph.invoke({\"messages\": HumanMessage(content=\"Hello\", name=\"Guilherme\")})\n",
    "messages"
   ]
  },
  {
   "cell_type": "markdown",
   "metadata": {},
   "source": [
    "Now, let's invoke the tool call!"
   ]
  },
  {
   "cell_type": "code",
   "execution_count": 59,
   "metadata": {},
   "outputs": [
    {
     "data": {
      "text/plain": [
       "{'messages': [HumanMessage(content='Multiply 4 by 5', additional_kwargs={}, response_metadata={}, name='Guilherme', id='d0322937-41bb-4fb5-8528-8716c4405380'),\n",
       "  AIMessage(content='', additional_kwargs={}, response_metadata={'model': 'llama3.1', 'created_at': '2024-12-28T00:24:39.0839506Z', 'done': True, 'done_reason': 'stop', 'total_duration': 660922100, 'load_duration': 21416900, 'prompt_eval_count': 173, 'prompt_eval_duration': 131000000, 'eval_count': 22, 'eval_duration': 507000000, 'message': Message(role='assistant', content='', images=None, tool_calls=None)}, id='run-fa436e11-6b9d-4fc6-a9e9-0e13114484c9-0', tool_calls=[{'name': 'multiply', 'args': {'a': 4, 'b': 5}, 'id': '6e7607e6-70f6-47ea-9cc7-761a2e859006', 'type': 'tool_call'}], usage_metadata={'input_tokens': 173, 'output_tokens': 22, 'total_tokens': 195})]}"
      ]
     },
     "execution_count": 59,
     "metadata": {},
     "output_type": "execute_result"
    }
   ],
   "source": [
    "messages = graph.invoke({\"messages\": HumanMessage(content=\"Multiply 4 by 5\", name=\"Guilherme\")})\n",
    "messages"
   ]
  },
  {
   "cell_type": "code",
   "execution_count": null,
   "metadata": {},
   "outputs": [],
   "source": []
  }
 ],
 "metadata": {
  "kernelspec": {
   "display_name": "langgraph-academy-GSfDBkeK-py3.12",
   "language": "python",
   "name": "python3"
  },
  "language_info": {
   "codemirror_mode": {
    "name": "ipython",
    "version": 3
   },
   "file_extension": ".py",
   "mimetype": "text/x-python",
   "name": "python",
   "nbconvert_exporter": "python",
   "pygments_lexer": "ipython3",
   "version": "3.12.4"
  }
 },
 "nbformat": 4,
 "nbformat_minor": 2
}
